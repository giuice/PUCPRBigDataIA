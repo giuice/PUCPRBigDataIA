{
 "metadata": {
  "language_info": {
   "codemirror_mode": {
    "name": "ipython",
    "version": 3
   },
   "file_extension": ".py",
   "mimetype": "text/x-python",
   "name": "python",
   "nbconvert_exporter": "python",
   "pygments_lexer": "ipython3",
   "version": "3.7.7-final"
  },
  "orig_nbformat": 2,
  "kernelspec": {
   "name": "python_defaultSpec_1600820237377",
   "display_name": "Python 3.7.7 64-bit ('Anaconda3': conda)"
  }
 },
 "nbformat": 4,
 "nbformat_minor": 2,
 "cells": [
  {
   "source": [
    "# Script KNN"
   ],
   "cell_type": "markdown",
   "metadata": {}
  },
  {
   "cell_type": "code",
   "execution_count": 1,
   "metadata": {},
   "outputs": [],
   "source": [
    "# Este exemplo carrega a base Wine da UCI, e avalia dois KNNs\n",
    "# Um usando holdout e outro usando validaÃ§Ã£o cruzada com 10 pastas. \n",
    "\n",
    "# Importa bibliotecas necessÃ¡rias \n",
    "import numpy as np\n",
    "import urllib\n",
    "from sklearn.neighbors import KNeighborsClassifier\n",
    "from sklearn import  model_selection\n",
    "from sklearn.metrics import confusion_matrix\n",
    "from sklearn.model_selection import train_test_split\n"
   ]
  },
  {
   "cell_type": "code",
   "execution_count": 2,
   "metadata": {
    "tags": []
   },
   "outputs": [
    {
     "output_type": "stream",
     "name": "stdout",
     "text": "(178, 14)\n"
    }
   ],
   "source": [
    "#from sklearn.model_selection import StratifiedShuffleSplit\n",
    "# Carrega uma base de dados do UCI\n",
    "# Exemplo carrega a base Wine\n",
    "url = \"http://archive.ics.uci.edu/ml/machine-learning-databases/wine/wine.data\"\n",
    "raw_data = urllib.request.urlopen(url)\n",
    "\n",
    "# Carrega arquivo como uma matriz\n",
    "dataset = np.loadtxt(raw_data, delimiter=\",\")\n",
    "\n",
    "# Imprime quantide de instÃ¢ncias e atributos da base\n",
    "print(dataset.shape)\n",
    "\n"
   ]
  },
  {
   "source": [
    "## Holdout"
   ],
   "cell_type": "markdown",
   "metadata": {}
  },
  {
   "cell_type": "code",
   "execution_count": 3,
   "metadata": {
    "tags": []
   },
   "outputs": [
    {
     "output_type": "stream",
     "name": "stdout",
     "text": "Accuracy = 0.83 \nConfusion Matrix:\n[[18  0  0]\n [ 5 15  1]\n [ 2  1 12]]\n"
    }
   ],
   "source": [
    "# Coloca em X os 13 atributos de entrada e em y as classes\n",
    "# Observe que na base Wine a classe Ã© primeiro atributo \n",
    "X = dataset[:,1:13]\n",
    "y = dataset[:,0]\n",
    "\n",
    "# EXEMPLO USANDO HOLDOUT\n",
    "# Holdout -> dividindo a base em treinamento (70%) e teste (30%), estratificada\n",
    "X_train, X_test, y_train, y_test = train_test_split(X,y,test_size=.3, random_state=42, stratify=y)\n",
    "\n",
    "# declara o classificador\n",
    "clfa = KNeighborsClassifier(n_neighbors=3)\n",
    "\n",
    "# treina o classificador\n",
    "clfa.fit(X_train, y_train)\n",
    "\n",
    "# testa usando a base de testes\n",
    "predicted=clfa.predict(X_test)\n",
    "\n",
    "# calcula a acurÃ¡cia na base de teste\n",
    "score=clfa.score(X_test, y_test)\n",
    "\n",
    "# calcula a matriz de confusÃ£o\n",
    "matrix = confusion_matrix(y_test, predicted)\n",
    "\n",
    "# apresenta os resultados\n",
    "print(\"Accuracy = %.2f \" % score)\n",
    "print(\"Confusion Matrix:\")\n",
    "print(matrix)\n",
    "\n",
    "\n"
   ]
  },
  {
   "source": [
    "## Validação Cruzada"
   ],
   "cell_type": "markdown",
   "metadata": {}
  },
  {
   "cell_type": "code",
   "execution_count": 4,
   "metadata": {
    "tags": []
   },
   "outputs": [
    {
     "output_type": "stream",
     "name": "stdout",
     "text": "\nCross Validation Results 10 folds:\nMean Accuracy: 0.87\nMean Std: 0.08\nConfusion Matrix:\n[[54  5  0]\n [10 59  2]\n [ 4  3 41]]\n"
    }
   ],
   "source": [
    "# EXEMPLO USANDO VALIDAÃ‡ÃƒO CRUZADA\n",
    "clfb = KNeighborsClassifier(n_neighbors=3)\n",
    "folds=10\n",
    "result = model_selection.cross_val_score(clfb, X, y, cv=folds)\n",
    "print(\"\\nCross Validation Results %d folds:\" % folds)\n",
    "print(\"Mean Accuracy: %.2f\" % result.mean())\n",
    "print(\"Mean Std: %.2f\" % result.std())\n",
    "\n",
    "# matriz de confusÃ£o da validaÃ§Ã£o cruzada\n",
    "Z = model_selection.cross_val_predict(clfb, X, y, cv=folds)\n",
    "cm=confusion_matrix(y, Z)\n",
    "print(\"Confusion Matrix:\")\n",
    "print(cm)"
   ]
  }
 ]
}